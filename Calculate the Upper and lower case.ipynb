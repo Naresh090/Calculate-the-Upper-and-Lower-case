{
 "cells": [
  {
   "cell_type": "code",
   "execution_count": 2,
   "id": "26dbc3b5",
   "metadata": {},
   "outputs": [
    {
     "name": "stdout",
     "output_type": "stream",
     "text": [
      "Enter a string :The quick Brow Fox\n",
      "No. of Upper case Characters:  3\n",
      "No. of Lower case Characters:  12\n"
     ]
    }
   ],
   "source": [
    "def count_upper_lower(string1):\n",
    "    upper_count=0\n",
    "    lower_count=0\n",
    "    for char in string1:\n",
    "        if char.isupper():\n",
    "            upper_count+=1\n",
    "        elif char.islower():\n",
    "            lower_count+=1\n",
    "    print(\"No. of Upper case Characters: \",(upper_count)) \n",
    "    print(\"No. of Lower case Characters: \",(lower_count))\n",
    "temp=input(\"Enter a string :\")\n",
    "count_upper_lower(temp)"
   ]
  },
  {
   "cell_type": "code",
   "execution_count": null,
   "id": "d870cf17",
   "metadata": {},
   "outputs": [],
   "source": []
  }
 ],
 "metadata": {
  "kernelspec": {
   "display_name": "Python 3 (ipykernel)",
   "language": "python",
   "name": "python3"
  },
  "language_info": {
   "codemirror_mode": {
    "name": "ipython",
    "version": 3
   },
   "file_extension": ".py",
   "mimetype": "text/x-python",
   "name": "python",
   "nbconvert_exporter": "python",
   "pygments_lexer": "ipython3",
   "version": "3.10.9"
  }
 },
 "nbformat": 4,
 "nbformat_minor": 5
}
